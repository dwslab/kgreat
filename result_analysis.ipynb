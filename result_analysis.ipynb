{
 "cells": [
  {
   "cell_type": "code",
   "execution_count": 9,
   "metadata": {
    "collapsed": true
   },
   "outputs": [],
   "source": [
    "PATH_TO_RESULTS = {\n",
    "    'DBpedia50k': './kg/dbpedia50k/result/run_0',\n",
    "    'DBpedia2016': './kg/dbpedia2016/result/run_0',\n",
    "    'CaLiGraph': './kg/caligraph/result/run_0'\n",
    "}"
   ]
  },
  {
   "cell_type": "code",
   "execution_count": 12,
   "outputs": [
    {
     "data": {
      "text/plain": "                                                id          task_mode  \\\n0                               dm-AAUP_regression         regression   \n1                               dm-AAUP_regression         regression   \n2                               dm-AAUP_regression         regression   \n3                               dm-AAUP_regression         regression   \n4                               dm-AAUP_regression         regression   \n..                                             ...                ...   \n41                          dm-AAUP_classification     classification   \n42  dm-AllCapitalCountryEntities_semanticAnalogies  semanticAnalogies   \n43  dm-AllCapitalCountryEntities_semanticAnalogies  semanticAnalogies   \n44  dm-AllCapitalCountryEntities_semanticAnalogies  semanticAnalogies   \n45  dm-AllCapitalCountryEntities_semanticAnalogies  semanticAnalogies   \n\n                      dataset entities_total entities_missing entity_mode  \\\n0                        AAUP            933              930       KNOWN   \n1                        AAUP            933              930       KNOWN   \n2                        AAUP            933              930       KNOWN   \n3                        AAUP            933              930       KNOWN   \n4                        AAUP            933              930       KNOWN   \n..                        ...            ...              ...         ...   \n41                       AAUP            933              930       KNOWN   \n42  AllCapitalCountryEntities            232              228         ALL   \n43  AllCapitalCountryEntities            232              228         ALL   \n44  AllCapitalCountryEntities            232              228       KNOWN   \n45  AllCapitalCountryEntities            232              228       KNOWN   \n\n                estimator                estimator_config  \\\n0        LinearRegression                              {}   \n1     KNeighborsRegressor              {'n_neighbors': 1}   \n2     KNeighborsRegressor              {'n_neighbors': 3}   \n3     KNeighborsRegressor              {'n_neighbors': 5}   \n4   DecisionTreeRegressor                              {}   \n..                    ...                             ...   \n41                    SVC  {'kernel': 'linear', 'C': 0.1}   \n42      Cosine similarity                    {'top_k': 2}   \n43      Cosine similarity                    {'top_k': 5}   \n44      Cosine similarity                    {'top_k': 2}   \n45      Cosine similarity                    {'top_k': 5}   \n\n                         metric     score      kg_name  \n0   neg_root_mean_squared_error -0.660401   DBpedia50k  \n1   neg_root_mean_squared_error -0.525406   DBpedia50k  \n2   neg_root_mean_squared_error -0.591440   DBpedia50k  \n3   neg_root_mean_squared_error -0.596578   DBpedia50k  \n4   neg_root_mean_squared_error -0.812746   DBpedia50k  \n..                          ...       ...          ...  \n41                     accuracy  0.450000  DBpedia50k2  \n42                     Accuracy  0.000221  DBpedia50k2  \n43                     Accuracy  0.000221  DBpedia50k2  \n44                     Accuracy  1.000000  DBpedia50k2  \n45                     Accuracy  1.000000  DBpedia50k2  \n\n[92 rows x 11 columns]",
      "text/html": "<div>\n<style scoped>\n    .dataframe tbody tr th:only-of-type {\n        vertical-align: middle;\n    }\n\n    .dataframe tbody tr th {\n        vertical-align: top;\n    }\n\n    .dataframe thead th {\n        text-align: right;\n    }\n</style>\n<table border=\"1\" class=\"dataframe\">\n  <thead>\n    <tr style=\"text-align: right;\">\n      <th></th>\n      <th>id</th>\n      <th>task_mode</th>\n      <th>dataset</th>\n      <th>entities_total</th>\n      <th>entities_missing</th>\n      <th>entity_mode</th>\n      <th>estimator</th>\n      <th>estimator_config</th>\n      <th>metric</th>\n      <th>score</th>\n      <th>kg_name</th>\n    </tr>\n  </thead>\n  <tbody>\n    <tr>\n      <th>0</th>\n      <td>dm-AAUP_regression</td>\n      <td>regression</td>\n      <td>AAUP</td>\n      <td>933</td>\n      <td>930</td>\n      <td>KNOWN</td>\n      <td>LinearRegression</td>\n      <td>{}</td>\n      <td>neg_root_mean_squared_error</td>\n      <td>-0.660401</td>\n      <td>DBpedia50k</td>\n    </tr>\n    <tr>\n      <th>1</th>\n      <td>dm-AAUP_regression</td>\n      <td>regression</td>\n      <td>AAUP</td>\n      <td>933</td>\n      <td>930</td>\n      <td>KNOWN</td>\n      <td>KNeighborsRegressor</td>\n      <td>{'n_neighbors': 1}</td>\n      <td>neg_root_mean_squared_error</td>\n      <td>-0.525406</td>\n      <td>DBpedia50k</td>\n    </tr>\n    <tr>\n      <th>2</th>\n      <td>dm-AAUP_regression</td>\n      <td>regression</td>\n      <td>AAUP</td>\n      <td>933</td>\n      <td>930</td>\n      <td>KNOWN</td>\n      <td>KNeighborsRegressor</td>\n      <td>{'n_neighbors': 3}</td>\n      <td>neg_root_mean_squared_error</td>\n      <td>-0.591440</td>\n      <td>DBpedia50k</td>\n    </tr>\n    <tr>\n      <th>3</th>\n      <td>dm-AAUP_regression</td>\n      <td>regression</td>\n      <td>AAUP</td>\n      <td>933</td>\n      <td>930</td>\n      <td>KNOWN</td>\n      <td>KNeighborsRegressor</td>\n      <td>{'n_neighbors': 5}</td>\n      <td>neg_root_mean_squared_error</td>\n      <td>-0.596578</td>\n      <td>DBpedia50k</td>\n    </tr>\n    <tr>\n      <th>4</th>\n      <td>dm-AAUP_regression</td>\n      <td>regression</td>\n      <td>AAUP</td>\n      <td>933</td>\n      <td>930</td>\n      <td>KNOWN</td>\n      <td>DecisionTreeRegressor</td>\n      <td>{}</td>\n      <td>neg_root_mean_squared_error</td>\n      <td>-0.812746</td>\n      <td>DBpedia50k</td>\n    </tr>\n    <tr>\n      <th>...</th>\n      <td>...</td>\n      <td>...</td>\n      <td>...</td>\n      <td>...</td>\n      <td>...</td>\n      <td>...</td>\n      <td>...</td>\n      <td>...</td>\n      <td>...</td>\n      <td>...</td>\n      <td>...</td>\n    </tr>\n    <tr>\n      <th>41</th>\n      <td>dm-AAUP_classification</td>\n      <td>classification</td>\n      <td>AAUP</td>\n      <td>933</td>\n      <td>930</td>\n      <td>KNOWN</td>\n      <td>SVC</td>\n      <td>{'kernel': 'linear', 'C': 0.1}</td>\n      <td>accuracy</td>\n      <td>0.450000</td>\n      <td>DBpedia50k2</td>\n    </tr>\n    <tr>\n      <th>42</th>\n      <td>dm-AllCapitalCountryEntities_semanticAnalogies</td>\n      <td>semanticAnalogies</td>\n      <td>AllCapitalCountryEntities</td>\n      <td>232</td>\n      <td>228</td>\n      <td>ALL</td>\n      <td>Cosine similarity</td>\n      <td>{'top_k': 2}</td>\n      <td>Accuracy</td>\n      <td>0.000221</td>\n      <td>DBpedia50k2</td>\n    </tr>\n    <tr>\n      <th>43</th>\n      <td>dm-AllCapitalCountryEntities_semanticAnalogies</td>\n      <td>semanticAnalogies</td>\n      <td>AllCapitalCountryEntities</td>\n      <td>232</td>\n      <td>228</td>\n      <td>ALL</td>\n      <td>Cosine similarity</td>\n      <td>{'top_k': 5}</td>\n      <td>Accuracy</td>\n      <td>0.000221</td>\n      <td>DBpedia50k2</td>\n    </tr>\n    <tr>\n      <th>44</th>\n      <td>dm-AllCapitalCountryEntities_semanticAnalogies</td>\n      <td>semanticAnalogies</td>\n      <td>AllCapitalCountryEntities</td>\n      <td>232</td>\n      <td>228</td>\n      <td>KNOWN</td>\n      <td>Cosine similarity</td>\n      <td>{'top_k': 2}</td>\n      <td>Accuracy</td>\n      <td>1.000000</td>\n      <td>DBpedia50k2</td>\n    </tr>\n    <tr>\n      <th>45</th>\n      <td>dm-AllCapitalCountryEntities_semanticAnalogies</td>\n      <td>semanticAnalogies</td>\n      <td>AllCapitalCountryEntities</td>\n      <td>232</td>\n      <td>228</td>\n      <td>KNOWN</td>\n      <td>Cosine similarity</td>\n      <td>{'top_k': 5}</td>\n      <td>Accuracy</td>\n      <td>1.000000</td>\n      <td>DBpedia50k2</td>\n    </tr>\n  </tbody>\n</table>\n<p>92 rows × 11 columns</p>\n</div>"
     },
     "execution_count": 12,
     "metadata": {},
     "output_type": "execute_result"
    }
   ],
   "source": [
    "import pandas as pd\n",
    "from pathlib import Path\n",
    "\n",
    "def load_kg_results(kg_name: str, path_to_results: str) -> pd.DataFrame:\n",
    "    path_to_results = Path(path_to_results)\n",
    "    df = pd.concat([pd.read_csv(f, sep='\\t') for f in path_to_results.rglob('*.tsv')]).reset_index(drop=True)\n",
    "    df['kg_name'] = kg_name\n",
    "    return df\n",
    "\n",
    "def merge_kg_results() -> pd.DataFrame:\n",
    "    return pd.concat([load_kg_results(kg_name, result_path) for kg_name, result_path in PATH_TO_RESULTS.items()])\n",
    "\n",
    "df = merge_kg_results()\n",
    "df"
   ],
   "metadata": {
    "collapsed": false,
    "pycharm": {
     "name": "#%%\n"
    }
   }
  },
  {
   "cell_type": "code",
   "execution_count": 13,
   "outputs": [
    {
     "data": {
      "text/plain": "kg_name                                                                               DBpedia50k  \\\ntask_mode          dataset                   entity_mode metric                                    \nclassification     AAUP                      KNOWN       accuracy                       0.526875   \nclustering         CitiesAndCountries        KNOWN       ARI                           -0.021447   \n                                                         NMI                            0.017915   \n                                                         accuracy                       0.644872   \ndocumentSimilarity LP50                      KNOWN       HarmonicMean                   0.187269   \n                                                         Pearson                        0.174754   \n                                                         Spearman                       0.208386   \nentityRelatedness  KORE                      ALL         Kendall's tau                  0.009023   \nregression         AAUP                      KNOWN       neg_root_mean_squared_error   -0.701885   \n                   Cities                    KNOWN       neg_root_mean_squared_error   -1.036785   \nsemanticAnalogies  AllCapitalCountryEntities ALL         Accuracy                       0.000221   \n                                             KNOWN       Accuracy                       1.000000   \n\nkg_name                                                                               DBpedia50k2  \ntask_mode          dataset                   entity_mode metric                                    \nclassification     AAUP                      KNOWN       accuracy                        0.526875  \nclustering         CitiesAndCountries        KNOWN       ARI                            -0.021447  \n                                                         NMI                             0.017915  \n                                                         accuracy                        0.644872  \ndocumentSimilarity LP50                      KNOWN       HarmonicMean                    0.187269  \n                                                         Pearson                         0.174754  \n                                                         Spearman                        0.208386  \nentityRelatedness  KORE                      ALL         Kendall's tau                   0.009023  \nregression         AAUP                      KNOWN       neg_root_mean_squared_error    -0.701885  \n                   Cities                    KNOWN       neg_root_mean_squared_error    -1.036785  \nsemanticAnalogies  AllCapitalCountryEntities ALL         Accuracy                        0.000221  \n                                             KNOWN       Accuracy                        1.000000  ",
      "text/html": "<div>\n<style scoped>\n    .dataframe tbody tr th:only-of-type {\n        vertical-align: middle;\n    }\n\n    .dataframe tbody tr th {\n        vertical-align: top;\n    }\n\n    .dataframe thead th {\n        text-align: right;\n    }\n</style>\n<table border=\"1\" class=\"dataframe\">\n  <thead>\n    <tr style=\"text-align: right;\">\n      <th></th>\n      <th></th>\n      <th></th>\n      <th>kg_name</th>\n      <th>DBpedia50k</th>\n      <th>DBpedia50k2</th>\n    </tr>\n    <tr>\n      <th>task_mode</th>\n      <th>dataset</th>\n      <th>entity_mode</th>\n      <th>metric</th>\n      <th></th>\n      <th></th>\n    </tr>\n  </thead>\n  <tbody>\n    <tr>\n      <th>classification</th>\n      <th>AAUP</th>\n      <th>KNOWN</th>\n      <th>accuracy</th>\n      <td>0.526875</td>\n      <td>0.526875</td>\n    </tr>\n    <tr>\n      <th rowspan=\"3\" valign=\"top\">clustering</th>\n      <th rowspan=\"3\" valign=\"top\">CitiesAndCountries</th>\n      <th rowspan=\"3\" valign=\"top\">KNOWN</th>\n      <th>ARI</th>\n      <td>-0.021447</td>\n      <td>-0.021447</td>\n    </tr>\n    <tr>\n      <th>NMI</th>\n      <td>0.017915</td>\n      <td>0.017915</td>\n    </tr>\n    <tr>\n      <th>accuracy</th>\n      <td>0.644872</td>\n      <td>0.644872</td>\n    </tr>\n    <tr>\n      <th rowspan=\"3\" valign=\"top\">documentSimilarity</th>\n      <th rowspan=\"3\" valign=\"top\">LP50</th>\n      <th rowspan=\"3\" valign=\"top\">KNOWN</th>\n      <th>HarmonicMean</th>\n      <td>0.187269</td>\n      <td>0.187269</td>\n    </tr>\n    <tr>\n      <th>Pearson</th>\n      <td>0.174754</td>\n      <td>0.174754</td>\n    </tr>\n    <tr>\n      <th>Spearman</th>\n      <td>0.208386</td>\n      <td>0.208386</td>\n    </tr>\n    <tr>\n      <th>entityRelatedness</th>\n      <th>KORE</th>\n      <th>ALL</th>\n      <th>Kendall's tau</th>\n      <td>0.009023</td>\n      <td>0.009023</td>\n    </tr>\n    <tr>\n      <th rowspan=\"2\" valign=\"top\">regression</th>\n      <th>AAUP</th>\n      <th>KNOWN</th>\n      <th>neg_root_mean_squared_error</th>\n      <td>-0.701885</td>\n      <td>-0.701885</td>\n    </tr>\n    <tr>\n      <th>Cities</th>\n      <th>KNOWN</th>\n      <th>neg_root_mean_squared_error</th>\n      <td>-1.036785</td>\n      <td>-1.036785</td>\n    </tr>\n    <tr>\n      <th rowspan=\"2\" valign=\"top\">semanticAnalogies</th>\n      <th rowspan=\"2\" valign=\"top\">AllCapitalCountryEntities</th>\n      <th>ALL</th>\n      <th>Accuracy</th>\n      <td>0.000221</td>\n      <td>0.000221</td>\n    </tr>\n    <tr>\n      <th>KNOWN</th>\n      <th>Accuracy</th>\n      <td>1.000000</td>\n      <td>1.000000</td>\n    </tr>\n  </tbody>\n</table>\n</div>"
     },
     "execution_count": 13,
     "metadata": {},
     "output_type": "execute_result"
    }
   ],
   "source": [
    "df.pivot_table(columns='kg_name', index=['task_mode', 'dataset', 'entity_mode', 'metric'], values='score')"
   ],
   "metadata": {
    "collapsed": false,
    "pycharm": {
     "name": "#%%\n"
    }
   }
  }
 ],
 "metadata": {
  "kernelspec": {
   "display_name": "Python 3",
   "language": "python",
   "name": "python3"
  },
  "language_info": {
   "codemirror_mode": {
    "name": "ipython",
    "version": 2
   },
   "file_extension": ".py",
   "mimetype": "text/x-python",
   "name": "python",
   "nbconvert_exporter": "python",
   "pygments_lexer": "ipython2",
   "version": "2.7.6"
  }
 },
 "nbformat": 4,
 "nbformat_minor": 0
}