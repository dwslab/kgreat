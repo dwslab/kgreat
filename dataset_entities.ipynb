{
 "cells": [
  {
   "cell_type": "code",
   "execution_count": 18,
   "metadata": {
    "collapsed": true,
    "pycharm": {
     "name": "#%%\n"
    }
   },
   "outputs": [],
   "source": [
    "import pandas as pd\n",
    "from shared.dm.utils.dataset import load_dataset\n",
    "\n",
    "def write_entities_file(dataset_config: dict, filepath: str):\n",
    "    dataset = load_dataset(dataset_config, pd.DataFrame())\n",
    "    dataset.get_entities().to_csv(filepath, sep='\\t', index=False)"
   ]
  },
  {
   "cell_type": "code",
   "execution_count": 20,
   "outputs": [],
   "source": [
    "configs = {\n",
    "    'AAUP': {\n",
    "        'filepath': './tasks/dm-AAUP/entities.tsv',\n",
    "        'dataset_config': {\n",
    "            'format': 'tsv',\n",
    "            'entity_keys': [\"Wikidata_URI\", \"DBpedia15_URI\", \"DBpedia16_URI\"],\n",
    "            'data_file': './tasks/dm-AAUP/examples.tsv',\n",
    "            'label': 'label'\n",
    "        }\n",
    "    },\n",
    "    'Cities': {\n",
    "        'filepath': './tasks/dm-Cities/entities.tsv',\n",
    "        'dataset_config': {\n",
    "            'format': 'tsv',\n",
    "            'entity_keys': [\"Wikidata_URI\", \"DBpedia15_URI\", \"DBpedia16_URI\"],\n",
    "            'data_file': './tasks/dm-Cities/examples.tsv',\n",
    "            'label': 'label'\n",
    "        }\n",
    "    },\n",
    "    'Forbes': {\n",
    "        'filepath': './tasks/dm-Forbes/entities.tsv',\n",
    "        'dataset_config': {\n",
    "            'format': 'tsv',\n",
    "            'entity_keys': [\"Wikidata_URI\", \"DBpedia15_URI\", \"DBpedia16_URI\"],\n",
    "            'data_file': './tasks/dm-Forbes/examples.tsv',\n",
    "            'label': 'label'\n",
    "        }\n",
    "    },\n",
    "    'MetacriticAlbums': {\n",
    "        'filepath': './tasks/dm-MetacriticAlbums/entities.tsv',\n",
    "        'dataset_config': {\n",
    "            'format': 'tsv',\n",
    "            'entity_keys': [\"Wikidata_URI\", \"DBpedia15_URI\", \"DBpedia16_URI\"],\n",
    "            'data_file': './tasks/dm-MetacriticAlbums/examples.tsv',\n",
    "            'label': 'label'\n",
    "        }\n",
    "    },\n",
    "    'MetacriticMovies': {\n",
    "        'filepath': './tasks/dm-MetacriticMovies/entities.tsv',\n",
    "        'dataset_config': {\n",
    "            'format': 'tsv',\n",
    "            'entity_keys': [\"Wikidata_URI\", \"DBpedia15_URI\", \"DBpedia16_URI\"],\n",
    "            'data_file': './tasks/dm-MetacriticMovies/examples.tsv',\n",
    "            'label': 'label'\n",
    "        }\n",
    "    },\n",
    "}\n",
    "\n",
    "for cfg in configs.values():\n",
    "    write_entities_file(cfg['dataset_config'], cfg['filepath'])"
   ],
   "metadata": {
    "collapsed": false,
    "pycharm": {
     "name": "#%%\n"
    }
   }
  },
  {
   "cell_type": "code",
   "execution_count": 29,
   "outputs": [],
   "source": [
    "# TODO: extend to all tasks (not only those in `configs`)\n",
    "# TODO: access entities.tsv files from docker containers\n",
    "def create_merged_entity_mapping_file():\n",
    "    mapped_ents = []\n",
    "    mapping_dict = {}\n",
    "    for cfg in configs.values():\n",
    "        ents = pd.read_csv(cfg['filepath'], header=0, sep='\\t')\n",
    "        _add_entities_to_mapping_dict(ents, mapped_ents, mapping_dict)\n",
    "    df = pd.DataFrame(mapped_ents)\n",
    "    df.to_csv('entities_to_map.tsv', sep='\\t', index=False)\n",
    "\n",
    "def _add_entities_to_mapping_dict(ents: pd.DataFrame, mapped_ents: list, mapping_dict: dict):\n",
    "    for _, row in ents.iterrows():\n",
    "        entity_ids = {k: v for k, v in row.items() if v}\n",
    "        # use existing mapping_dict entry (if existing), otherwise create new and add to mapped ents\n",
    "        mapping_dict_entry = {}\n",
    "        found_existing = False\n",
    "        for entity_id in entity_ids.values():\n",
    "            if entity_id in mapping_dict:\n",
    "                mapping_dict_entry = mapping_dict[entity_id]\n",
    "                found_existing = True\n",
    "                break\n",
    "        if not found_existing:\n",
    "            mapped_ents.append(mapping_dict_entry)\n",
    "        # update and index mapping-dict entry\n",
    "        mapping_dict_entry |= entity_ids\n",
    "        for entity_id in entity_ids:\n",
    "            mapping_dict[entity_id] = mapping_dict_entry\n",
    "\n",
    "create_merged_entity_mapping_file()"
   ],
   "metadata": {
    "collapsed": false,
    "pycharm": {
     "name": "#%%\n"
    }
   }
  },
  {
   "cell_type": "code",
   "execution_count": 30,
   "outputs": [],
   "source": [
    "def create_mapping_for_dbp50k():\n",
    "    ents = pd.read_csv('./entities_to_map.tsv', header=0, sep='\\t')\n",
    "    ents['source'] = ents['DBpedia16_URI'].str.slice(start=len('http://dbpedia.org/resource/'))\n",
    "    dbpedia50k_embeddings = pd.read_csv('./kg/dbpedia50k/embeddings/entity_embeddings.tsv', sep='\\t', header=None, index_col=0)\n",
    "    ents = ents[ents['source'].isin(dbpedia50k_embeddings.index)]\n",
    "    ents.to_csv('./kg/dbpedia50k/entity_mapping.tsv', index=None, sep='\\t')\n",
    "create_mapping_for_dbp50k()"
   ],
   "metadata": {
    "collapsed": false,
    "pycharm": {
     "name": "#%%\n"
    }
   }
  }
 ],
 "metadata": {
  "kernelspec": {
   "display_name": "Python 3",
   "language": "python",
   "name": "python3"
  },
  "language_info": {
   "codemirror_mode": {
    "name": "ipython",
    "version": 2
   },
   "file_extension": ".py",
   "mimetype": "text/x-python",
   "name": "python",
   "nbconvert_exporter": "python",
   "pygments_lexer": "ipython2",
   "version": "2.7.6"
  }
 },
 "nbformat": 4,
 "nbformat_minor": 0
}