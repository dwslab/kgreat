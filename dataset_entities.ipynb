{
 "cells": [
  {
   "cell_type": "code",
   "execution_count": 1,
   "metadata": {
    "collapsed": true,
    "pycharm": {
     "name": "#%%\n"
    }
   },
   "outputs": [],
   "source": [
    "import yaml\n",
    "import pandas as pd\n",
    "from pathlib import Path\n",
    "from shared.dm.utils.dataset import load_dataset\n",
    "\n",
    "def write_entities_files():\n",
    "    for path_to_task in Path('./tasks').glob('*'):\n",
    "        with open(path_to_task / 'config.yaml') as f:\n",
    "            dataset_config = yaml.safe_load(f)\n",
    "        for filepath in ['data_file', 'entity_file', 'docsim_file']:\n",
    "            if filepath in dataset_config:\n",
    "                dataset_config[filepath] = str(path_to_task / dataset_config[filepath])\n",
    "        dataset = load_dataset(dataset_config, pd.DataFrame())\n",
    "        dataset.get_entities().to_csv(path_to_task / 'entities.tsv', sep='\\t', index=False)\n",
    "\n",
    "write_entities_files()"
   ]
  },
  {
   "cell_type": "code",
   "execution_count": null,
   "metadata": {
    "pycharm": {
     "name": "#%%\n"
    }
   },
   "outputs": [],
   "source": [
    "def create_mapping_for_dbp50k():\n",
    "    ents = pd.read_csv('./entities_to_map.tsv', header=0, sep='\\t')\n",
    "    ents['source'] = ents['DBpedia16_URI'].str.slice(start=len('http://dbpedia.org/resource/'))\n",
    "    dbpedia50k_embeddings = pd.read_csv('./kg/dbpedia50k/embeddings/TransE_l1.tsv', sep='\\t', header=None, index_col=0)\n",
    "    ents = ents[ents['source'].isin(dbpedia50k_embeddings.index)]\n",
    "    ents.to_csv('./kg/dbpedia50k/entity_mapping.tsv', index=None, sep='\\t')\n",
    "create_mapping_for_dbp50k()"
   ]
  },
  {
   "cell_type": "code",
   "execution_count": null,
   "metadata": {
    "pycharm": {
     "name": "#%%\n"
    }
   },
   "outputs": [],
   "source": [
    "def create_mapping_for_dbp2016():\n",
    "    ents = pd.read_csv('./entities_to_map.tsv', header=0, sep='\\t')\n",
    "    ents['source'] = ents['DBpedia16_URI']\n",
    "    dbpedia_embeddings = pd.read_csv('./kg/dbpedia2016/embeddings/TransE_l1.tsv', sep='\\t', header=None, index_col=0)\n",
    "    ents = ents[ents['source'].isin(dbpedia_embeddings.index)]\n",
    "    ents.to_csv('./kg/dbpedia2016/entity_mapping.tsv', index=None, sep='\\t')\n",
    "create_mapping_for_dbp2016()"
   ]
  }
 ],
 "metadata": {
  "kernelspec": {
   "display_name": "Python 3 (ipykernel)",
   "language": "python",
   "name": "python3"
  },
  "language_info": {
   "codemirror_mode": {
    "name": "ipython",
    "version": 3
   },
   "file_extension": ".py",
   "mimetype": "text/x-python",
   "name": "python",
   "nbconvert_exporter": "python",
   "pygments_lexer": "ipython3",
   "version": "3.9.15"
  }
 },
 "nbformat": 4,
 "nbformat_minor": 1
}