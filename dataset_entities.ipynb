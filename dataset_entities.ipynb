{
 "cells": [
  {
   "cell_type": "code",
   "execution_count": 9,
   "metadata": {
    "collapsed": true,
    "pycharm": {
     "name": "#%%\n"
    }
   },
   "outputs": [],
   "source": [
    "import pandas as pd\n",
    "from shared.dm.utils.dataset import load_dataset\n",
    "\n",
    "def write_entities_file(dataset_config: dict, filepath: str):\n",
    "    dataset = load_dataset(dataset_config, pd.DataFrame())\n",
    "    dataset.get_entities().to_csv(filepath, sep='\\t', index=False)"
   ]
  },
  {
   "cell_type": "code",
   "execution_count": 10,
   "outputs": [],
   "source": [
    "configs = {\n",
    "    'AAUP': {\n",
    "        'filepath': './tasks/dm-AAUP/entities.tsv',\n",
    "        'dataset_config': {\n",
    "            'format': 'tsv',\n",
    "            'entity_keys': [\"Wikidata_URI\", \"DBpedia15_URI\", \"DBpedia16_URI\"],\n",
    "            'data_file': './tasks/dm-AAUP/examples.tsv',\n",
    "            'label': 'label'\n",
    "        }\n",
    "    }\n",
    "}\n",
    "\n",
    "for cfg in configs.values():\n",
    "    write_entities_file(cfg['dataset_config'], cfg['filepath'])"
   ],
   "metadata": {
    "collapsed": false,
    "pycharm": {
     "name": "#%%\n"
    }
   }
  },
  {
   "cell_type": "code",
   "execution_count": 17,
   "outputs": [],
   "source": [
    "def create_mapping_for_dbp50k():\n",
    "    ents = pd.read_csv('./tasks/dm-AAUP/entities.tsv', header=0, sep='\\t')\n",
    "    ents['source'] = ents['DBpedia16_URI'].str.slice(start=len('http://dbpedia.org/resource/'))\n",
    "    dbpedia50k_embeddings = pd.read_csv('./kg/dbpedia50k/embeddings/entity_embeddings.tsv', sep='\\t', header=None, index_col=0)\n",
    "    ents = ents[ents['source'].isin(dbpedia50k_embeddings.index)]\n",
    "    ents.to_csv('./kg/dbpedia50k/entity_mapping.tsv', index=None, sep='\\t')\n",
    "create_mapping_for_dbp50k()"
   ],
   "metadata": {
    "collapsed": false,
    "pycharm": {
     "name": "#%%\n"
    }
   }
  }
 ],
 "metadata": {
  "kernelspec": {
   "display_name": "Python 3",
   "language": "python",
   "name": "python3"
  },
  "language_info": {
   "codemirror_mode": {
    "name": "ipython",
    "version": 2
   },
   "file_extension": ".py",
   "mimetype": "text/x-python",
   "name": "python",
   "nbconvert_exporter": "python",
   "pygments_lexer": "ipython2",
   "version": "2.7.6"
  }
 },
 "nbformat": 4,
 "nbformat_minor": 0
}